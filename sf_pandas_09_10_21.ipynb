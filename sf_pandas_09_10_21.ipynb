{
  "nbformat": 4,
  "nbformat_minor": 0,
  "metadata": {
    "colab": {
      "name": "sf_pandas_09_10_21",
      "provenance": [],
      "collapsed_sections": [],
      "include_colab_link": true
    },
    "kernelspec": {
      "name": "python3",
      "display_name": "Python 3"
    }
  },
  "cells": [
    {
      "cell_type": "markdown",
      "metadata": {
        "id": "view-in-github",
        "colab_type": "text"
      },
      "source": [
        "<a href=\"https://colab.research.google.com/github/GryazHUB/dev_SkillFactory/blob/main/sf_pandas_09_10_21.ipynb\" target=\"_parent\"><img src=\"https://colab.research.google.com/assets/colab-badge.svg\" alt=\"Open In Colab\"/></a>"
      ]
    },
    {
      "cell_type": "markdown",
      "metadata": {
        "id": "E1ZR1FHYMsJh"
      },
      "source": [
        "# Работа с Pandas"
      ]
    },
    {
      "cell_type": "markdown",
      "metadata": {
        "id": "8ONOFUcIEeYK"
      },
      "source": [
        "Булыгин Олег  \n",
        "\n",
        "* [LinkedIn](linkedin.com/in/obulygin)  \n",
        "* [Telegram](https://t.me/obulygin91)  \n",
        "* [facebook](fb.com/obulygin91)  \n",
        "* [Vk](vk.com/obulygin91)  \n",
        "* email: obulygin91@ya.ru  \n",
        "\n",
        "[Сообщество по Python](https://yandex.ru/q/loves/pythontalk/) на Кью  \n",
        "[Сообщество по Data Science и анализу данных](https://yandex.ru/q/loves/datatalk/) на Кью "
      ]
    },
    {
      "cell_type": "markdown",
      "metadata": {
        "id": "Vw4ia5wCEeYL"
      },
      "source": [
        "## План\n",
        "В рамках воркфлоу работы с открытым датафрейм по реальным транзакциям британского онлайн-магазина подарков. Реализуем набор аналитических действий и решим задачи:\n",
        "- посчитаем стастику по странам;\n",
        "- проанализируем выручку;\n",
        "- изучим статистику по клиентам;\n",
        "- проанализируем динамику среднего чека;\n",
        "- просегментируем товары по стоимости;\n",
        "- сделаем когортный анализ и анализ удержания клиентов (уже непросто!).\n",
        "\n",
        "Пройдя по этим шагам повторим:\n",
        "- базовую работу с датами;\n",
        "- преобразование типов;\n",
        "- сортировку;\n",
        "- группировку и сводные таблицы;\n",
        "- объединение датафреймов."
      ]
    },
    {
      "cell_type": "code",
      "metadata": {
        "id": "iBmFNyAZ6JOn"
      },
      "source": [
        "# импортируем pandas\n",
        "import pandas as pd"
      ],
      "execution_count": null,
      "outputs": []
    },
    {
      "cell_type": "markdown",
      "metadata": {
        "id": "kOuFFM38LYOf"
      },
      "source": [
        "### Открытие и знакомство с данными"
      ]
    },
    {
      "cell_type": "code",
      "metadata": {
        "id": "ARU_Q-NRmfNG"
      },
      "source": [
        "# читаем данные из csv, который находится в zip-файле на github\n",
        "url = 'https://github.com/obulygin/SkillFactory/blob/main/ecommerce-data.zip?raw=true'\n",
        "df = pd.read_csv(url, encoding='ISO-8859-1', compression='zip')"
      ],
      "execution_count": null,
      "outputs": []
    },
    {
      "cell_type": "code",
      "metadata": {
        "id": "Hb6HoZIA7JLd",
        "colab": {
          "base_uri": "https://localhost:8080/",
          "height": 388
        },
        "outputId": "551ccfe1-ba11-41ba-bc3d-f64eac0ed5bc"
      },
      "source": [
        "# смотрим первые 5 строк таблицы\n",
        "display(df.head())\n",
        "# смотрим последние 5 строк таблицы\n",
        "display(df.tail())"
      ],
      "execution_count": null,
      "outputs": [
        {
          "output_type": "display_data",
          "data": {
            "text/html": [
              "<div>\n",
              "<style scoped>\n",
              "    .dataframe tbody tr th:only-of-type {\n",
              "        vertical-align: middle;\n",
              "    }\n",
              "\n",
              "    .dataframe tbody tr th {\n",
              "        vertical-align: top;\n",
              "    }\n",
              "\n",
              "    .dataframe thead th {\n",
              "        text-align: right;\n",
              "    }\n",
              "</style>\n",
              "<table border=\"1\" class=\"dataframe\">\n",
              "  <thead>\n",
              "    <tr style=\"text-align: right;\">\n",
              "      <th></th>\n",
              "      <th>InvoiceNo</th>\n",
              "      <th>StockCode</th>\n",
              "      <th>Description</th>\n",
              "      <th>Quantity</th>\n",
              "      <th>InvoiceDate</th>\n",
              "      <th>UnitPrice</th>\n",
              "      <th>CustomerID</th>\n",
              "      <th>Country</th>\n",
              "    </tr>\n",
              "  </thead>\n",
              "  <tbody>\n",
              "    <tr>\n",
              "      <th>0</th>\n",
              "      <td>536365</td>\n",
              "      <td>85123A</td>\n",
              "      <td>WHITE HANGING HEART T-LIGHT HOLDER</td>\n",
              "      <td>6</td>\n",
              "      <td>12/1/2010 8:26</td>\n",
              "      <td>2.55</td>\n",
              "      <td>17850.0</td>\n",
              "      <td>United Kingdom</td>\n",
              "    </tr>\n",
              "    <tr>\n",
              "      <th>1</th>\n",
              "      <td>536365</td>\n",
              "      <td>71053</td>\n",
              "      <td>WHITE METAL LANTERN</td>\n",
              "      <td>6</td>\n",
              "      <td>12/1/2010 8:26</td>\n",
              "      <td>3.39</td>\n",
              "      <td>17850.0</td>\n",
              "      <td>United Kingdom</td>\n",
              "    </tr>\n",
              "    <tr>\n",
              "      <th>2</th>\n",
              "      <td>536365</td>\n",
              "      <td>84406B</td>\n",
              "      <td>CREAM CUPID HEARTS COAT HANGER</td>\n",
              "      <td>8</td>\n",
              "      <td>12/1/2010 8:26</td>\n",
              "      <td>2.75</td>\n",
              "      <td>17850.0</td>\n",
              "      <td>United Kingdom</td>\n",
              "    </tr>\n",
              "    <tr>\n",
              "      <th>3</th>\n",
              "      <td>536365</td>\n",
              "      <td>84029G</td>\n",
              "      <td>KNITTED UNION FLAG HOT WATER BOTTLE</td>\n",
              "      <td>6</td>\n",
              "      <td>12/1/2010 8:26</td>\n",
              "      <td>3.39</td>\n",
              "      <td>17850.0</td>\n",
              "      <td>United Kingdom</td>\n",
              "    </tr>\n",
              "    <tr>\n",
              "      <th>4</th>\n",
              "      <td>536365</td>\n",
              "      <td>84029E</td>\n",
              "      <td>RED WOOLLY HOTTIE WHITE HEART.</td>\n",
              "      <td>6</td>\n",
              "      <td>12/1/2010 8:26</td>\n",
              "      <td>3.39</td>\n",
              "      <td>17850.0</td>\n",
              "      <td>United Kingdom</td>\n",
              "    </tr>\n",
              "  </tbody>\n",
              "</table>\n",
              "</div>"
            ],
            "text/plain": [
              "  InvoiceNo StockCode  ... CustomerID         Country\n",
              "0    536365    85123A  ...    17850.0  United Kingdom\n",
              "1    536365     71053  ...    17850.0  United Kingdom\n",
              "2    536365    84406B  ...    17850.0  United Kingdom\n",
              "3    536365    84029G  ...    17850.0  United Kingdom\n",
              "4    536365    84029E  ...    17850.0  United Kingdom\n",
              "\n",
              "[5 rows x 8 columns]"
            ]
          },
          "metadata": {}
        },
        {
          "output_type": "display_data",
          "data": {
            "text/html": [
              "<div>\n",
              "<style scoped>\n",
              "    .dataframe tbody tr th:only-of-type {\n",
              "        vertical-align: middle;\n",
              "    }\n",
              "\n",
              "    .dataframe tbody tr th {\n",
              "        vertical-align: top;\n",
              "    }\n",
              "\n",
              "    .dataframe thead th {\n",
              "        text-align: right;\n",
              "    }\n",
              "</style>\n",
              "<table border=\"1\" class=\"dataframe\">\n",
              "  <thead>\n",
              "    <tr style=\"text-align: right;\">\n",
              "      <th></th>\n",
              "      <th>InvoiceNo</th>\n",
              "      <th>StockCode</th>\n",
              "      <th>Description</th>\n",
              "      <th>Quantity</th>\n",
              "      <th>InvoiceDate</th>\n",
              "      <th>UnitPrice</th>\n",
              "      <th>CustomerID</th>\n",
              "      <th>Country</th>\n",
              "    </tr>\n",
              "  </thead>\n",
              "  <tbody>\n",
              "    <tr>\n",
              "      <th>541904</th>\n",
              "      <td>581587</td>\n",
              "      <td>22613</td>\n",
              "      <td>PACK OF 20 SPACEBOY NAPKINS</td>\n",
              "      <td>12</td>\n",
              "      <td>12/9/2011 12:50</td>\n",
              "      <td>0.85</td>\n",
              "      <td>12680.0</td>\n",
              "      <td>France</td>\n",
              "    </tr>\n",
              "    <tr>\n",
              "      <th>541905</th>\n",
              "      <td>581587</td>\n",
              "      <td>22899</td>\n",
              "      <td>CHILDREN'S APRON DOLLY GIRL</td>\n",
              "      <td>6</td>\n",
              "      <td>12/9/2011 12:50</td>\n",
              "      <td>2.10</td>\n",
              "      <td>12680.0</td>\n",
              "      <td>France</td>\n",
              "    </tr>\n",
              "    <tr>\n",
              "      <th>541906</th>\n",
              "      <td>581587</td>\n",
              "      <td>23254</td>\n",
              "      <td>CHILDRENS CUTLERY DOLLY GIRL</td>\n",
              "      <td>4</td>\n",
              "      <td>12/9/2011 12:50</td>\n",
              "      <td>4.15</td>\n",
              "      <td>12680.0</td>\n",
              "      <td>France</td>\n",
              "    </tr>\n",
              "    <tr>\n",
              "      <th>541907</th>\n",
              "      <td>581587</td>\n",
              "      <td>23255</td>\n",
              "      <td>CHILDRENS CUTLERY CIRCUS PARADE</td>\n",
              "      <td>4</td>\n",
              "      <td>12/9/2011 12:50</td>\n",
              "      <td>4.15</td>\n",
              "      <td>12680.0</td>\n",
              "      <td>France</td>\n",
              "    </tr>\n",
              "    <tr>\n",
              "      <th>541908</th>\n",
              "      <td>581587</td>\n",
              "      <td>22138</td>\n",
              "      <td>BAKING SET 9 PIECE RETROSPOT</td>\n",
              "      <td>3</td>\n",
              "      <td>12/9/2011 12:50</td>\n",
              "      <td>4.95</td>\n",
              "      <td>12680.0</td>\n",
              "      <td>France</td>\n",
              "    </tr>\n",
              "  </tbody>\n",
              "</table>\n",
              "</div>"
            ],
            "text/plain": [
              "       InvoiceNo StockCode  ... CustomerID  Country\n",
              "541904    581587     22613  ...    12680.0   France\n",
              "541905    581587     22899  ...    12680.0   France\n",
              "541906    581587     23254  ...    12680.0   France\n",
              "541907    581587     23255  ...    12680.0   France\n",
              "541908    581587     22138  ...    12680.0   France\n",
              "\n",
              "[5 rows x 8 columns]"
            ]
          },
          "metadata": {}
        }
      ]
    },
    {
      "cell_type": "code",
      "metadata": {
        "id": "1fld-n197QiX",
        "colab": {
          "base_uri": "https://localhost:8080/",
          "height": 295
        },
        "outputId": "7468f0ef-2883-4f4e-c362-032f856fda46"
      },
      "source": [
        "# рассчитываем базовые статистики по каждому числовому признаку\n",
        "df.describe() "
      ],
      "execution_count": null,
      "outputs": [
        {
          "output_type": "execute_result",
          "data": {
            "text/html": [
              "<div>\n",
              "<style scoped>\n",
              "    .dataframe tbody tr th:only-of-type {\n",
              "        vertical-align: middle;\n",
              "    }\n",
              "\n",
              "    .dataframe tbody tr th {\n",
              "        vertical-align: top;\n",
              "    }\n",
              "\n",
              "    .dataframe thead th {\n",
              "        text-align: right;\n",
              "    }\n",
              "</style>\n",
              "<table border=\"1\" class=\"dataframe\">\n",
              "  <thead>\n",
              "    <tr style=\"text-align: right;\">\n",
              "      <th></th>\n",
              "      <th>Quantity</th>\n",
              "      <th>UnitPrice</th>\n",
              "      <th>CustomerID</th>\n",
              "    </tr>\n",
              "  </thead>\n",
              "  <tbody>\n",
              "    <tr>\n",
              "      <th>count</th>\n",
              "      <td>541909.000000</td>\n",
              "      <td>541909.000000</td>\n",
              "      <td>406829.000000</td>\n",
              "    </tr>\n",
              "    <tr>\n",
              "      <th>mean</th>\n",
              "      <td>9.552250</td>\n",
              "      <td>4.611114</td>\n",
              "      <td>15287.690570</td>\n",
              "    </tr>\n",
              "    <tr>\n",
              "      <th>std</th>\n",
              "      <td>218.081158</td>\n",
              "      <td>96.759853</td>\n",
              "      <td>1713.600303</td>\n",
              "    </tr>\n",
              "    <tr>\n",
              "      <th>min</th>\n",
              "      <td>-80995.000000</td>\n",
              "      <td>-11062.060000</td>\n",
              "      <td>12346.000000</td>\n",
              "    </tr>\n",
              "    <tr>\n",
              "      <th>25%</th>\n",
              "      <td>1.000000</td>\n",
              "      <td>1.250000</td>\n",
              "      <td>13953.000000</td>\n",
              "    </tr>\n",
              "    <tr>\n",
              "      <th>50%</th>\n",
              "      <td>3.000000</td>\n",
              "      <td>2.080000</td>\n",
              "      <td>15152.000000</td>\n",
              "    </tr>\n",
              "    <tr>\n",
              "      <th>75%</th>\n",
              "      <td>10.000000</td>\n",
              "      <td>4.130000</td>\n",
              "      <td>16791.000000</td>\n",
              "    </tr>\n",
              "    <tr>\n",
              "      <th>max</th>\n",
              "      <td>80995.000000</td>\n",
              "      <td>38970.000000</td>\n",
              "      <td>18287.000000</td>\n",
              "    </tr>\n",
              "  </tbody>\n",
              "</table>\n",
              "</div>"
            ],
            "text/plain": [
              "            Quantity      UnitPrice     CustomerID\n",
              "count  541909.000000  541909.000000  406829.000000\n",
              "mean        9.552250       4.611114   15287.690570\n",
              "std       218.081158      96.759853    1713.600303\n",
              "min    -80995.000000  -11062.060000   12346.000000\n",
              "25%         1.000000       1.250000   13953.000000\n",
              "50%         3.000000       2.080000   15152.000000\n",
              "75%        10.000000       4.130000   16791.000000\n",
              "max     80995.000000   38970.000000   18287.000000"
            ]
          },
          "metadata": {},
          "execution_count": 6
        }
      ]
    },
    {
      "cell_type": "code",
      "metadata": {
        "id": "qVw3PZNAFR8b",
        "colab": {
          "base_uri": "https://localhost:8080/"
        },
        "outputId": "db1ab444-74be-4bc7-f051-042703cee11d"
      },
      "source": [
        "# выводим общую информацию\n",
        "df.info()"
      ],
      "execution_count": null,
      "outputs": [
        {
          "output_type": "stream",
          "name": "stdout",
          "text": [
            "<class 'pandas.core.frame.DataFrame'>\n",
            "RangeIndex: 541909 entries, 0 to 541908\n",
            "Data columns (total 8 columns):\n",
            " #   Column       Non-Null Count   Dtype  \n",
            "---  ------       --------------   -----  \n",
            " 0   InvoiceNo    541909 non-null  object \n",
            " 1   StockCode    541909 non-null  object \n",
            " 2   Description  540455 non-null  object \n",
            " 3   Quantity     541909 non-null  int64  \n",
            " 4   InvoiceDate  541909 non-null  object \n",
            " 5   UnitPrice    541909 non-null  float64\n",
            " 6   CustomerID   406829 non-null  float64\n",
            " 7   Country      541909 non-null  object \n",
            "dtypes: float64(2), int64(1), object(5)\n",
            "memory usage: 33.1+ MB\n"
          ]
        }
      ]
    },
    {
      "cell_type": "markdown",
      "metadata": {
        "id": "GU5AMaN6IF_g"
      },
      "source": [
        "### Избавимся от отрицательных значений"
      ]
    },
    {
      "cell_type": "code",
      "metadata": {
        "id": "2zhOWIt69OvK",
        "colab": {
          "base_uri": "https://localhost:8080/",
          "height": 295
        },
        "outputId": "4601df3d-dc57-4565-831c-98490fcf975d"
      },
      "source": [
        "# оставляем данные только с заполненным id пользователя и положительными ценами на товар\n",
        "df = df[(df['UnitPrice'] > 0) & (df['Quantity'] > 0)]\n",
        "df.describe()"
      ],
      "execution_count": null,
      "outputs": [
        {
          "output_type": "execute_result",
          "data": {
            "text/html": [
              "<div>\n",
              "<style scoped>\n",
              "    .dataframe tbody tr th:only-of-type {\n",
              "        vertical-align: middle;\n",
              "    }\n",
              "\n",
              "    .dataframe tbody tr th {\n",
              "        vertical-align: top;\n",
              "    }\n",
              "\n",
              "    .dataframe thead th {\n",
              "        text-align: right;\n",
              "    }\n",
              "</style>\n",
              "<table border=\"1\" class=\"dataframe\">\n",
              "  <thead>\n",
              "    <tr style=\"text-align: right;\">\n",
              "      <th></th>\n",
              "      <th>Quantity</th>\n",
              "      <th>UnitPrice</th>\n",
              "      <th>CustomerID</th>\n",
              "    </tr>\n",
              "  </thead>\n",
              "  <tbody>\n",
              "    <tr>\n",
              "      <th>count</th>\n",
              "      <td>530104.000000</td>\n",
              "      <td>530104.000000</td>\n",
              "      <td>397884.000000</td>\n",
              "    </tr>\n",
              "    <tr>\n",
              "      <th>mean</th>\n",
              "      <td>10.542037</td>\n",
              "      <td>3.907625</td>\n",
              "      <td>15294.423453</td>\n",
              "    </tr>\n",
              "    <tr>\n",
              "      <th>std</th>\n",
              "      <td>155.524124</td>\n",
              "      <td>35.915681</td>\n",
              "      <td>1713.141560</td>\n",
              "    </tr>\n",
              "    <tr>\n",
              "      <th>min</th>\n",
              "      <td>1.000000</td>\n",
              "      <td>0.001000</td>\n",
              "      <td>12346.000000</td>\n",
              "    </tr>\n",
              "    <tr>\n",
              "      <th>25%</th>\n",
              "      <td>1.000000</td>\n",
              "      <td>1.250000</td>\n",
              "      <td>13969.000000</td>\n",
              "    </tr>\n",
              "    <tr>\n",
              "      <th>50%</th>\n",
              "      <td>3.000000</td>\n",
              "      <td>2.080000</td>\n",
              "      <td>15159.000000</td>\n",
              "    </tr>\n",
              "    <tr>\n",
              "      <th>75%</th>\n",
              "      <td>10.000000</td>\n",
              "      <td>4.130000</td>\n",
              "      <td>16795.000000</td>\n",
              "    </tr>\n",
              "    <tr>\n",
              "      <th>max</th>\n",
              "      <td>80995.000000</td>\n",
              "      <td>13541.330000</td>\n",
              "      <td>18287.000000</td>\n",
              "    </tr>\n",
              "  </tbody>\n",
              "</table>\n",
              "</div>"
            ],
            "text/plain": [
              "            Quantity      UnitPrice     CustomerID\n",
              "count  530104.000000  530104.000000  397884.000000\n",
              "mean       10.542037       3.907625   15294.423453\n",
              "std       155.524124      35.915681    1713.141560\n",
              "min         1.000000       0.001000   12346.000000\n",
              "25%         1.000000       1.250000   13969.000000\n",
              "50%         3.000000       2.080000   15159.000000\n",
              "75%        10.000000       4.130000   16795.000000\n",
              "max     80995.000000   13541.330000   18287.000000"
            ]
          },
          "metadata": {},
          "execution_count": 8
        }
      ]
    },
    {
      "cell_type": "markdown",
      "metadata": {
        "id": "o2GaC1c3GT6z"
      },
      "source": [
        "### Избавимся от дубликатов в данных"
      ]
    },
    {
      "cell_type": "code",
      "metadata": {
        "id": "FfmcydLRqq4S",
        "colab": {
          "base_uri": "https://localhost:8080/"
        },
        "outputId": "b024252a-ec69-4f89-da10-84502ebb63d2"
      },
      "source": [
        "# посмотрим, сколько у нас повторов\n",
        "df.duplicated().sum()"
      ],
      "execution_count": null,
      "outputs": [
        {
          "output_type": "execute_result",
          "data": {
            "text/plain": [
              "5226"
            ]
          },
          "metadata": {},
          "execution_count": 9
        }
      ]
    },
    {
      "cell_type": "code",
      "metadata": {
        "id": "eQaWUgmoqznJ",
        "colab": {
          "base_uri": "https://localhost:8080/"
        },
        "outputId": "fcb4b7a7-b46f-4156-c061-34cd03647e89"
      },
      "source": [
        "# сколько всего строк?\n",
        "df.shape"
      ],
      "execution_count": null,
      "outputs": [
        {
          "output_type": "execute_result",
          "data": {
            "text/plain": [
              "(530104, 8)"
            ]
          },
          "metadata": {},
          "execution_count": 10
        }
      ]
    },
    {
      "cell_type": "code",
      "metadata": {
        "id": "hTf5rmMIlMzM",
        "colab": {
          "base_uri": "https://localhost:8080/"
        },
        "outputId": "cdb6d96a-15ec-4223-e7dc-ad1b200e6b42"
      },
      "source": [
        "# удалим дубли и проверим\n",
        "df.drop_duplicates(inplace=True)\n",
        "df.shape"
      ],
      "execution_count": null,
      "outputs": [
        {
          "output_type": "execute_result",
          "data": {
            "text/plain": [
              "(524878, 8)"
            ]
          },
          "metadata": {},
          "execution_count": 11
        }
      ]
    },
    {
      "cell_type": "markdown",
      "metadata": {
        "id": "zg12xmJOdo5F"
      },
      "source": [
        "### Поправим типы данных"
      ]
    },
    {
      "cell_type": "code",
      "metadata": {
        "id": "jeMh_K3lpV_K",
        "colab": {
          "base_uri": "https://localhost:8080/"
        },
        "outputId": "301dce3b-7627-4f6a-a8fd-28b4a867241e"
      },
      "source": [
        "df.info()"
      ],
      "execution_count": null,
      "outputs": [
        {
          "output_type": "stream",
          "name": "stdout",
          "text": [
            "<class 'pandas.core.frame.DataFrame'>\n",
            "Int64Index: 524878 entries, 0 to 541908\n",
            "Data columns (total 8 columns):\n",
            " #   Column       Non-Null Count   Dtype  \n",
            "---  ------       --------------   -----  \n",
            " 0   InvoiceNo    524878 non-null  object \n",
            " 1   StockCode    524878 non-null  object \n",
            " 2   Description  524878 non-null  object \n",
            " 3   Quantity     524878 non-null  int64  \n",
            " 4   InvoiceDate  524878 non-null  object \n",
            " 5   UnitPrice    524878 non-null  float64\n",
            " 6   CustomerID   392692 non-null  float64\n",
            " 7   Country      524878 non-null  object \n",
            "dtypes: float64(2), int64(1), object(5)\n",
            "memory usage: 36.0+ MB\n"
          ]
        }
      ]
    },
    {
      "cell_type": "code",
      "metadata": {
        "id": "zeKtOk5NWyCR",
        "colab": {
          "base_uri": "https://localhost:8080/",
          "height": 330
        },
        "outputId": "fdf07b95-0980-4d7b-fe38-3567d706fc9d"
      },
      "source": [
        "# почему ошибка?\n",
        "df['CustomerID'] = df['CustomerID'].astype('int64')"
      ],
      "execution_count": null,
      "outputs": [
        {
          "output_type": "error",
          "ename": "ValueError",
          "evalue": "ignored",
          "traceback": [
            "\u001b[0;31m---------------------------------------------------------------------------\u001b[0m",
            "\u001b[0;31mValueError\u001b[0m                                Traceback (most recent call last)",
            "\u001b[0;32m<ipython-input-13-45a7e488ec33>\u001b[0m in \u001b[0;36m<module>\u001b[0;34m()\u001b[0m\n\u001b[1;32m      1\u001b[0m \u001b[0;31m# почему ошибка?\u001b[0m\u001b[0;34m\u001b[0m\u001b[0;34m\u001b[0m\u001b[0;34m\u001b[0m\u001b[0m\n\u001b[0;32m----> 2\u001b[0;31m \u001b[0mdf\u001b[0m\u001b[0;34m[\u001b[0m\u001b[0;34m'CustomerID'\u001b[0m\u001b[0;34m]\u001b[0m \u001b[0;34m=\u001b[0m \u001b[0mdf\u001b[0m\u001b[0;34m[\u001b[0m\u001b[0;34m'CustomerID'\u001b[0m\u001b[0;34m]\u001b[0m\u001b[0;34m.\u001b[0m\u001b[0mastype\u001b[0m\u001b[0;34m(\u001b[0m\u001b[0;34m'int64'\u001b[0m\u001b[0;34m)\u001b[0m\u001b[0;34m\u001b[0m\u001b[0;34m\u001b[0m\u001b[0m\n\u001b[0m",
            "\u001b[0;32m/usr/local/lib/python3.7/dist-packages/pandas/core/generic.py\u001b[0m in \u001b[0;36mastype\u001b[0;34m(self, dtype, copy, errors)\u001b[0m\n\u001b[1;32m   5546\u001b[0m         \u001b[0;32melse\u001b[0m\u001b[0;34m:\u001b[0m\u001b[0;34m\u001b[0m\u001b[0;34m\u001b[0m\u001b[0m\n\u001b[1;32m   5547\u001b[0m             \u001b[0;31m# else, only a single dtype is given\u001b[0m\u001b[0;34m\u001b[0m\u001b[0;34m\u001b[0m\u001b[0;34m\u001b[0m\u001b[0m\n\u001b[0;32m-> 5548\u001b[0;31m             \u001b[0mnew_data\u001b[0m \u001b[0;34m=\u001b[0m \u001b[0mself\u001b[0m\u001b[0;34m.\u001b[0m\u001b[0m_mgr\u001b[0m\u001b[0;34m.\u001b[0m\u001b[0mastype\u001b[0m\u001b[0;34m(\u001b[0m\u001b[0mdtype\u001b[0m\u001b[0;34m=\u001b[0m\u001b[0mdtype\u001b[0m\u001b[0;34m,\u001b[0m \u001b[0mcopy\u001b[0m\u001b[0;34m=\u001b[0m\u001b[0mcopy\u001b[0m\u001b[0;34m,\u001b[0m \u001b[0merrors\u001b[0m\u001b[0;34m=\u001b[0m\u001b[0merrors\u001b[0m\u001b[0;34m,\u001b[0m\u001b[0;34m)\u001b[0m\u001b[0;34m\u001b[0m\u001b[0;34m\u001b[0m\u001b[0m\n\u001b[0m\u001b[1;32m   5549\u001b[0m             \u001b[0;32mreturn\u001b[0m \u001b[0mself\u001b[0m\u001b[0;34m.\u001b[0m\u001b[0m_constructor\u001b[0m\u001b[0;34m(\u001b[0m\u001b[0mnew_data\u001b[0m\u001b[0;34m)\u001b[0m\u001b[0;34m.\u001b[0m\u001b[0m__finalize__\u001b[0m\u001b[0;34m(\u001b[0m\u001b[0mself\u001b[0m\u001b[0;34m,\u001b[0m \u001b[0mmethod\u001b[0m\u001b[0;34m=\u001b[0m\u001b[0;34m\"astype\"\u001b[0m\u001b[0;34m)\u001b[0m\u001b[0;34m\u001b[0m\u001b[0;34m\u001b[0m\u001b[0m\n\u001b[1;32m   5550\u001b[0m \u001b[0;34m\u001b[0m\u001b[0m\n",
            "\u001b[0;32m/usr/local/lib/python3.7/dist-packages/pandas/core/internals/managers.py\u001b[0m in \u001b[0;36mastype\u001b[0;34m(self, dtype, copy, errors)\u001b[0m\n\u001b[1;32m    602\u001b[0m         \u001b[0mself\u001b[0m\u001b[0;34m,\u001b[0m \u001b[0mdtype\u001b[0m\u001b[0;34m,\u001b[0m \u001b[0mcopy\u001b[0m\u001b[0;34m:\u001b[0m \u001b[0mbool\u001b[0m \u001b[0;34m=\u001b[0m \u001b[0;32mFalse\u001b[0m\u001b[0;34m,\u001b[0m \u001b[0merrors\u001b[0m\u001b[0;34m:\u001b[0m \u001b[0mstr\u001b[0m \u001b[0;34m=\u001b[0m \u001b[0;34m\"raise\"\u001b[0m\u001b[0;34m\u001b[0m\u001b[0;34m\u001b[0m\u001b[0m\n\u001b[1;32m    603\u001b[0m     ) -> \"BlockManager\":\n\u001b[0;32m--> 604\u001b[0;31m         \u001b[0;32mreturn\u001b[0m \u001b[0mself\u001b[0m\u001b[0;34m.\u001b[0m\u001b[0mapply\u001b[0m\u001b[0;34m(\u001b[0m\u001b[0;34m\"astype\"\u001b[0m\u001b[0;34m,\u001b[0m \u001b[0mdtype\u001b[0m\u001b[0;34m=\u001b[0m\u001b[0mdtype\u001b[0m\u001b[0;34m,\u001b[0m \u001b[0mcopy\u001b[0m\u001b[0;34m=\u001b[0m\u001b[0mcopy\u001b[0m\u001b[0;34m,\u001b[0m \u001b[0merrors\u001b[0m\u001b[0;34m=\u001b[0m\u001b[0merrors\u001b[0m\u001b[0;34m)\u001b[0m\u001b[0;34m\u001b[0m\u001b[0;34m\u001b[0m\u001b[0m\n\u001b[0m\u001b[1;32m    605\u001b[0m \u001b[0;34m\u001b[0m\u001b[0m\n\u001b[1;32m    606\u001b[0m     def convert(\n",
            "\u001b[0;32m/usr/local/lib/python3.7/dist-packages/pandas/core/internals/managers.py\u001b[0m in \u001b[0;36mapply\u001b[0;34m(self, f, align_keys, **kwargs)\u001b[0m\n\u001b[1;32m    407\u001b[0m                 \u001b[0mapplied\u001b[0m \u001b[0;34m=\u001b[0m \u001b[0mb\u001b[0m\u001b[0;34m.\u001b[0m\u001b[0mapply\u001b[0m\u001b[0;34m(\u001b[0m\u001b[0mf\u001b[0m\u001b[0;34m,\u001b[0m \u001b[0;34m**\u001b[0m\u001b[0mkwargs\u001b[0m\u001b[0;34m)\u001b[0m\u001b[0;34m\u001b[0m\u001b[0;34m\u001b[0m\u001b[0m\n\u001b[1;32m    408\u001b[0m             \u001b[0;32melse\u001b[0m\u001b[0;34m:\u001b[0m\u001b[0;34m\u001b[0m\u001b[0;34m\u001b[0m\u001b[0m\n\u001b[0;32m--> 409\u001b[0;31m                 \u001b[0mapplied\u001b[0m \u001b[0;34m=\u001b[0m \u001b[0mgetattr\u001b[0m\u001b[0;34m(\u001b[0m\u001b[0mb\u001b[0m\u001b[0;34m,\u001b[0m \u001b[0mf\u001b[0m\u001b[0;34m)\u001b[0m\u001b[0;34m(\u001b[0m\u001b[0;34m**\u001b[0m\u001b[0mkwargs\u001b[0m\u001b[0;34m)\u001b[0m\u001b[0;34m\u001b[0m\u001b[0;34m\u001b[0m\u001b[0m\n\u001b[0m\u001b[1;32m    410\u001b[0m             \u001b[0mresult_blocks\u001b[0m \u001b[0;34m=\u001b[0m \u001b[0m_extend_blocks\u001b[0m\u001b[0;34m(\u001b[0m\u001b[0mapplied\u001b[0m\u001b[0;34m,\u001b[0m \u001b[0mresult_blocks\u001b[0m\u001b[0;34m)\u001b[0m\u001b[0;34m\u001b[0m\u001b[0;34m\u001b[0m\u001b[0m\n\u001b[1;32m    411\u001b[0m \u001b[0;34m\u001b[0m\u001b[0m\n",
            "\u001b[0;32m/usr/local/lib/python3.7/dist-packages/pandas/core/internals/blocks.py\u001b[0m in \u001b[0;36mastype\u001b[0;34m(self, dtype, copy, errors)\u001b[0m\n\u001b[1;32m    593\u001b[0m             \u001b[0mvals1d\u001b[0m \u001b[0;34m=\u001b[0m \u001b[0mvalues\u001b[0m\u001b[0;34m.\u001b[0m\u001b[0mravel\u001b[0m\u001b[0;34m(\u001b[0m\u001b[0;34m)\u001b[0m\u001b[0;34m\u001b[0m\u001b[0;34m\u001b[0m\u001b[0m\n\u001b[1;32m    594\u001b[0m             \u001b[0;32mtry\u001b[0m\u001b[0;34m:\u001b[0m\u001b[0;34m\u001b[0m\u001b[0;34m\u001b[0m\u001b[0m\n\u001b[0;32m--> 595\u001b[0;31m                 \u001b[0mvalues\u001b[0m \u001b[0;34m=\u001b[0m \u001b[0mastype_nansafe\u001b[0m\u001b[0;34m(\u001b[0m\u001b[0mvals1d\u001b[0m\u001b[0;34m,\u001b[0m \u001b[0mdtype\u001b[0m\u001b[0;34m,\u001b[0m \u001b[0mcopy\u001b[0m\u001b[0;34m=\u001b[0m\u001b[0;32mTrue\u001b[0m\u001b[0;34m)\u001b[0m\u001b[0;34m\u001b[0m\u001b[0;34m\u001b[0m\u001b[0m\n\u001b[0m\u001b[1;32m    596\u001b[0m             \u001b[0;32mexcept\u001b[0m \u001b[0;34m(\u001b[0m\u001b[0mValueError\u001b[0m\u001b[0;34m,\u001b[0m \u001b[0mTypeError\u001b[0m\u001b[0;34m)\u001b[0m\u001b[0;34m:\u001b[0m\u001b[0;34m\u001b[0m\u001b[0;34m\u001b[0m\u001b[0m\n\u001b[1;32m    597\u001b[0m                 \u001b[0;31m# e.g. astype_nansafe can fail on object-dtype of strings\u001b[0m\u001b[0;34m\u001b[0m\u001b[0;34m\u001b[0m\u001b[0;34m\u001b[0m\u001b[0m\n",
            "\u001b[0;32m/usr/local/lib/python3.7/dist-packages/pandas/core/dtypes/cast.py\u001b[0m in \u001b[0;36mastype_nansafe\u001b[0;34m(arr, dtype, copy, skipna)\u001b[0m\n\u001b[1;32m    966\u001b[0m \u001b[0;34m\u001b[0m\u001b[0m\n\u001b[1;32m    967\u001b[0m         \u001b[0;32mif\u001b[0m \u001b[0;32mnot\u001b[0m \u001b[0mnp\u001b[0m\u001b[0;34m.\u001b[0m\u001b[0misfinite\u001b[0m\u001b[0;34m(\u001b[0m\u001b[0marr\u001b[0m\u001b[0;34m)\u001b[0m\u001b[0;34m.\u001b[0m\u001b[0mall\u001b[0m\u001b[0;34m(\u001b[0m\u001b[0;34m)\u001b[0m\u001b[0;34m:\u001b[0m\u001b[0;34m\u001b[0m\u001b[0;34m\u001b[0m\u001b[0m\n\u001b[0;32m--> 968\u001b[0;31m             \u001b[0;32mraise\u001b[0m \u001b[0mValueError\u001b[0m\u001b[0;34m(\u001b[0m\u001b[0;34m\"Cannot convert non-finite values (NA or inf) to integer\"\u001b[0m\u001b[0;34m)\u001b[0m\u001b[0;34m\u001b[0m\u001b[0;34m\u001b[0m\u001b[0m\n\u001b[0m\u001b[1;32m    969\u001b[0m \u001b[0;34m\u001b[0m\u001b[0m\n\u001b[1;32m    970\u001b[0m     \u001b[0;32melif\u001b[0m \u001b[0mis_object_dtype\u001b[0m\u001b[0;34m(\u001b[0m\u001b[0marr\u001b[0m\u001b[0;34m)\u001b[0m\u001b[0;34m:\u001b[0m\u001b[0;34m\u001b[0m\u001b[0;34m\u001b[0m\u001b[0m\n",
            "\u001b[0;31mValueError\u001b[0m: Cannot convert non-finite values (NA or inf) to integer"
          ]
        }
      ]
    },
    {
      "cell_type": "code",
      "metadata": {
        "id": "nNmNQtbNFWzS"
      },
      "source": [
        "# Nullable datatypes: https://pandas.pydata.org/pandas-docs/stable/user_guide/integer_na.html\n",
        "df['CustomerID'] = df['CustomerID'].astype('Int64')"
      ],
      "execution_count": null,
      "outputs": []
    },
    {
      "cell_type": "code",
      "metadata": {
        "id": "f9JUOquB_fCJ"
      },
      "source": [
        "# переведем даты из строкового формата в datetime\n",
        "df['InvoiceDate'] = pd.to_datetime(df['InvoiceDate'])"
      ],
      "execution_count": null,
      "outputs": []
    },
    {
      "cell_type": "code",
      "metadata": {
        "id": "rsNBZf7zpgRz",
        "colab": {
          "base_uri": "https://localhost:8080/"
        },
        "outputId": "e2b55256-a0a9-41e5-e5fa-8e8307cdcd73"
      },
      "source": [
        "df.info()"
      ],
      "execution_count": null,
      "outputs": [
        {
          "output_type": "stream",
          "name": "stdout",
          "text": [
            "<class 'pandas.core.frame.DataFrame'>\n",
            "Int64Index: 524878 entries, 0 to 541908\n",
            "Data columns (total 8 columns):\n",
            " #   Column       Non-Null Count   Dtype         \n",
            "---  ------       --------------   -----         \n",
            " 0   InvoiceNo    524878 non-null  object        \n",
            " 1   StockCode    524878 non-null  object        \n",
            " 2   Description  524878 non-null  object        \n",
            " 3   Quantity     524878 non-null  int64         \n",
            " 4   InvoiceDate  524878 non-null  datetime64[ns]\n",
            " 5   UnitPrice    524878 non-null  float64       \n",
            " 6   CustomerID   392692 non-null  Int64         \n",
            " 7   Country      524878 non-null  object        \n",
            "dtypes: Int64(1), datetime64[ns](1), float64(1), int64(1), object(4)\n",
            "memory usage: 36.5+ MB\n"
          ]
        }
      ]
    },
    {
      "cell_type": "markdown",
      "metadata": {
        "id": "DRofAvYFhQWJ"
      },
      "source": [
        "### Изучаем статистику по странам"
      ]
    },
    {
      "cell_type": "code",
      "metadata": {
        "id": "1O5_0LSSwDmD",
        "colab": {
          "base_uri": "https://localhost:8080/"
        },
        "outputId": "eac3e84e-a387-4de2-9211-1bac13297c30"
      },
      "source": [
        "# считаем сколько транзакций было по странам при помощи value_counts\n",
        "df['Country'].value_counts()"
      ],
      "execution_count": null,
      "outputs": [
        {
          "output_type": "execute_result",
          "data": {
            "text/plain": [
              "United Kingdom          479985\n",
              "Germany                   9025\n",
              "France                    8392\n",
              "EIRE                      7879\n",
              "Spain                     2479\n",
              "Netherlands               2359\n",
              "Belgium                   2031\n",
              "Switzerland               1958\n",
              "Portugal                  1492\n",
              "Australia                 1181\n",
              "Norway                    1071\n",
              "Italy                      758\n",
              "Channel Islands            747\n",
              "Finland                    685\n",
              "Cyprus                     603\n",
              "Sweden                     450\n",
              "Unspecified                442\n",
              "Austria                    398\n",
              "Denmark                    380\n",
              "Poland                     330\n",
              "Japan                      321\n",
              "Israel                     292\n",
              "Hong Kong                  280\n",
              "Singapore                  222\n",
              "Iceland                    182\n",
              "USA                        179\n",
              "Canada                     151\n",
              "Greece                     145\n",
              "Malta                      112\n",
              "United Arab Emirates        68\n",
              "European Community          60\n",
              "RSA                         57\n",
              "Lebanon                     45\n",
              "Lithuania                   35\n",
              "Brazil                      32\n",
              "Czech Republic              25\n",
              "Bahrain                     18\n",
              "Saudi Arabia                 9\n",
              "Name: Country, dtype: int64"
            ]
          },
          "metadata": {},
          "execution_count": 17
        }
      ]
    },
    {
      "cell_type": "code",
      "metadata": {
        "id": "3XVTlTu8RzQU",
        "colab": {
          "base_uri": "https://localhost:8080/"
        },
        "outputId": "a700e8fa-707c-48c4-eb65-f4d835e6ba1d"
      },
      "source": [
        "# считаем сколько уникальных клиентов в странах\n",
        "countries = df.groupby('Country')['CustomerID'].nunique().sort_values(ascending=False)\n",
        "countries"
      ],
      "execution_count": null,
      "outputs": [
        {
          "output_type": "execute_result",
          "data": {
            "text/plain": [
              "Country\n",
              "United Kingdom          3920\n",
              "Germany                   94\n",
              "France                    87\n",
              "Spain                     30\n",
              "Belgium                   25\n",
              "Switzerland               21\n",
              "Portugal                  19\n",
              "Italy                     14\n",
              "Finland                   12\n",
              "Austria                   11\n",
              "Norway                    10\n",
              "Channel Islands            9\n",
              "Netherlands                9\n",
              "Denmark                    9\n",
              "Australia                  9\n",
              "Cyprus                     8\n",
              "Sweden                     8\n",
              "Japan                      8\n",
              "Poland                     6\n",
              "Canada                     4\n",
              "Greece                     4\n",
              "Unspecified                4\n",
              "USA                        4\n",
              "EIRE                       3\n",
              "Israel                     3\n",
              "Malta                      2\n",
              "Bahrain                    2\n",
              "United Arab Emirates       2\n",
              "Iceland                    1\n",
              "Lebanon                    1\n",
              "Lithuania                  1\n",
              "European Community         1\n",
              "Czech Republic             1\n",
              "RSA                        1\n",
              "Saudi Arabia               1\n",
              "Singapore                  1\n",
              "Brazil                     1\n",
              "Hong Kong                  0\n",
              "Name: CustomerID, dtype: int64"
            ]
          },
          "metadata": {},
          "execution_count": 18
        }
      ]
    },
    {
      "cell_type": "markdown",
      "metadata": {
        "id": "SZzxR-uRwBcn"
      },
      "source": [
        "### Сегменты товаров по стоимости"
      ]
    },
    {
      "cell_type": "code",
      "metadata": {
        "id": "iXpxwRrdvU3A",
        "colab": {
          "base_uri": "https://localhost:8080/"
        },
        "outputId": "635c0f73-7801-4fd8-947f-5b300c519180"
      },
      "source": [
        "# напишем функцию для сегментации товаров\n",
        "def price_segment(row):\n",
        "    if row < 5:\n",
        "        return 'cheap' \n",
        "    elif row >= 5 and row < 25:\n",
        "        return 'lower-middle'\n",
        "    elif row >= 25 and row < 100:\n",
        "        return 'upper-middle'\n",
        "    elif row >= 100:\n",
        "        return 'expensive'\n",
        " \n",
        "\n",
        "df['PriceSegment'] = df['UnitPrice'].apply(price_segment)\n",
        "df['PriceSegment'].value_counts()"
      ],
      "execution_count": null,
      "outputs": [
        {
          "output_type": "execute_result",
          "data": {
            "text/plain": [
              "cheap           439707\n",
              "lower-middle     82916\n",
              "upper-middle      1443\n",
              "expensive          812\n",
              "Name: PriceSegment, dtype: int64"
            ]
          },
          "metadata": {},
          "execution_count": 19
        }
      ]
    },
    {
      "cell_type": "markdown",
      "metadata": {
        "id": "tU7bvPFWODT8"
      },
      "source": [
        "#### Практика. Определить, какая из категорий товаров принесла больше всего вырочки"
      ]
    },
    {
      "cell_type": "code",
      "metadata": {
        "colab": {
          "base_uri": "https://localhost:8080/"
        },
        "id": "FO5CHQUzOW6x",
        "outputId": "a3df722a-4aa9-402a-ba1c-8c650946c2f3"
      },
      "source": [
        "df['Revenue'] = df['Quantity'] * df['UnitPrice']\n",
        "df.groupby('PriceSegment')['Revenue'].sum().sort_values(ascending=False)"
      ],
      "execution_count": null,
      "outputs": [
        {
          "output_type": "execute_result",
          "data": {
            "text/plain": [
              "PriceSegment\n",
              "cheap           7887707.804\n",
              "lower-middle    2280824.460\n",
              "expensive        374342.750\n",
              "upper-middle      99235.790\n",
              "Name: Revenue, dtype: float64"
            ]
          },
          "metadata": {},
          "execution_count": 23
        }
      ]
    },
    {
      "cell_type": "markdown",
      "metadata": {
        "id": "njRY--QZUCdr"
      },
      "source": [
        "### Заказы по дням и часам"
      ]
    },
    {
      "cell_type": "code",
      "metadata": {
        "id": "buvTyYxLUJBH"
      },
      "source": [
        "# смотрим динамику по дням недели\n",
        "df['DayOfWeek'] = df['InvoiceDate'].dt.dayofweek + 1\n",
        "df.groupby('DayOfWeek')['InvoiceNo'].count()"
      ],
      "execution_count": null,
      "outputs": []
    },
    {
      "cell_type": "markdown",
      "metadata": {
        "id": "n2dAhRFBVNpc"
      },
      "source": [
        "#### Изучим динамику количества покупок по часам"
      ]
    },
    {
      "cell_type": "code",
      "metadata": {
        "id": "IVRPYeB2VD4L"
      },
      "source": [
        "df['Hour'] = df['InvoiceDate'].dt.hour\n",
        "df.groupby('Hour')['InvoiceNo'].count()\n"
      ],
      "execution_count": null,
      "outputs": []
    },
    {
      "cell_type": "markdown",
      "metadata": {
        "id": "m9oRPcIg-aYZ"
      },
      "source": [
        "### Анализируем выручку"
      ]
    },
    {
      "cell_type": "code",
      "metadata": {
        "id": "nXdWZwGg9L6A"
      },
      "source": [
        "# создадим новый столбец\n",
        "df['Revenue'] = df['Quantity'] * df['UnitPrice']\n",
        "# добавим месяц покупки в новый столбец при помощи dt.strftime('%Y - %m')\n",
        "df['InvoiceMonth'] = df['InvoiceDate'].dt.strftime('%Y-%m') \n",
        "df.head() "
      ],
      "execution_count": null,
      "outputs": []
    },
    {
      "cell_type": "code",
      "metadata": {
        "id": "tGJia2jW-4fI"
      },
      "source": [
        "# выручка по месяцам\n",
        "df.groupby('InvoiceMonth')['Revenue'].sum()"
      ],
      "execution_count": null,
      "outputs": []
    },
    {
      "cell_type": "markdown",
      "metadata": {
        "id": "Utk7uB_gN13k"
      },
      "source": [
        "#### Практика. Найдите 3 страны, которые принесли максимальную выручку после UK"
      ]
    },
    {
      "cell_type": "code",
      "metadata": {
        "id": "Op-VLiEVMD5f"
      },
      "source": [
        ""
      ],
      "execution_count": null,
      "outputs": []
    },
    {
      "cell_type": "code",
      "metadata": {
        "id": "DGr9ztJ2W6tw"
      },
      "source": [
        "# уникальные покупатели по месяцам\n",
        "df.groupby('InvoiceMonth')['CustomerID'].nunique()"
      ],
      "execution_count": null,
      "outputs": []
    },
    {
      "cell_type": "code",
      "metadata": {
        "id": "NcPe6gQjAJ-8"
      },
      "source": [
        "# сводная таблица по выручки в определенной стране в разрезе пользователей и месяцев\n",
        "country = 'France'\n",
        "table = pd.pivot_table(\n",
        "    df[df['Country']==country], \n",
        "    index='CustomerID', \n",
        "    columns='InvoiceMonth', \n",
        "    aggfunc=sum, \n",
        "    values='Revenue', \n",
        "    fill_value=0)\n",
        "\n",
        "\n",
        "# подсветить максимальные значения по каждому месяцу\n",
        "table.style.highlight_max()\n",
        "# table.style.background_gradient(cmap='PuBu')"
      ],
      "execution_count": null,
      "outputs": []
    },
    {
      "cell_type": "markdown",
      "metadata": {
        "id": "yWuZA1aWN6ew"
      },
      "source": [
        "#### Практика. Построить сводную таблицу c кол-вом заказов по странам и месяцам\n"
      ]
    },
    {
      "cell_type": "code",
      "metadata": {
        "id": "biyXSiJpMsdh"
      },
      "source": [
        ""
      ],
      "execution_count": null,
      "outputs": []
    },
    {
      "cell_type": "markdown",
      "metadata": {
        "id": "rgfi3CwJJMs6"
      },
      "source": [
        "### Изучим статистику по клиентам"
      ]
    },
    {
      "cell_type": "code",
      "metadata": {
        "id": "KGNfW6qiHt4M"
      },
      "source": [
        "# изучим сводную статистику по покупателям из произвольной страны (суммарная и средняя выручка)\n",
        "products = df[df['Country']==country].groupby(['CustomerID', 'InvoiceNo'], as_index=False)['Revenue'].sum()\n",
        "display(products)\n",
        "products = products.groupby('CustomerID').agg({'InvoiceNo': ['count'], 'Revenue': ['sum','mean']})\n",
        "display(products)"
      ],
      "execution_count": null,
      "outputs": []
    },
    {
      "cell_type": "code",
      "metadata": {
        "id": "AbhXdp2DNh4H"
      },
      "source": [
        "# объединяем статистику по месяцам и статистику по выручки и количеству заказов в разрезе пользователей\n",
        "table_plus = pd.merge(table, products, on='CustomerID') \n",
        "table_plus.style.highlight_max()\n",
        "# table_plus.style.background_gradient(cmap='PuBu')"
      ],
      "execution_count": null,
      "outputs": []
    },
    {
      "cell_type": "markdown",
      "metadata": {
        "id": "yiDaL1vX5d2q"
      },
      "source": [
        "#### Практика. Определяем топ-5 лояльных клиентов по количеству покупок"
      ]
    },
    {
      "cell_type": "code",
      "metadata": {
        "id": "DHvx74Om5vQe"
      },
      "source": [
        ""
      ],
      "execution_count": null,
      "outputs": []
    },
    {
      "cell_type": "markdown",
      "metadata": {
        "id": "T94ptHwekT5y"
      },
      "source": [
        "### Как меняется средний чек со временем?"
      ]
    },
    {
      "cell_type": "code",
      "metadata": {
        "id": "8iC7Z8dKkSqj"
      },
      "source": [
        "df.groupby('InvoiceMonth')['Revenue'].sum().divide(df.groupby('InvoiceMonth')['InvoiceNo'].nunique())"
      ],
      "execution_count": null,
      "outputs": []
    },
    {
      "cell_type": "markdown",
      "metadata": {
        "id": "M6iBOF3N5a3D"
      },
      "source": [
        "### Когортный анализ\n",
        "\n",
        "Идея когортного анализа состоит в том, чтобы резделить пользоватей на группы по определенным признакам, и отслеживать поведение этих групп во времени. Обычно группы пользователей (когорты) выделяют на основе недели (месяца), когда пользователи совершили первую покупку.\n",
        "\n",
        "Выделив такие группы пользователей (когорты), вы следите за ними в течение времени и измеряете ключевые метрики для каждой отдельной когорты."
      ]
    },
    {
      "cell_type": "code",
      "metadata": {
        "id": "LHsurVnYo9f3"
      },
      "source": [
        "# определяем месяц первой покупки для каждого покупателя \n",
        "cohorts = df.groupby('CustomerID', as_index=False)['InvoiceMonth'].min()\n",
        "cohorts.rename(columns = {'InvoiceMonth':'Cohort'}, inplace=True)\n",
        "cohorts.head()"
      ],
      "execution_count": null,
      "outputs": []
    },
    {
      "cell_type": "code",
      "metadata": {
        "id": "kZvKm-BgviU4"
      },
      "source": [
        "# добавим когорты к основным данным\n",
        "\n",
        "# исключаем пропуски по пользователям для корректного объединения\n",
        "df_merged = pd.merge(df.dropna(), cohorts, how='left', on='CustomerID')\n",
        "df_merged.head()"
      ],
      "execution_count": null,
      "outputs": []
    },
    {
      "cell_type": "code",
      "metadata": {
        "id": "sCldVktG4Qop"
      },
      "source": [
        "# считаем доходы по когортам\n",
        "df_merged.groupby('Cohort')['Revenue'].sum()"
      ],
      "execution_count": null,
      "outputs": []
    },
    {
      "cell_type": "markdown",
      "metadata": {
        "id": "gkF-Zcl4Ojnt"
      },
      "source": [
        "### Анализ retention\n",
        "\n",
        "Customer retention (удержание клиентов) — это способность компании удерживать своих потребителей в течение определенного периода времени."
      ]
    },
    {
      "cell_type": "code",
      "metadata": {
        "id": "djKJrJw6IW0w"
      },
      "source": [
        "import numpy as np\n",
        "\n",
        "# пишем функцию которая добавляет столбец с временм жизни каждой когорты\n",
        "def cohort_period(df):\n",
        "  df['CohortLT'] = np.arange(len(df))\n",
        "  return df\n",
        "\n",
        "# считаем сколько уникальных клиентов у нас в каждой когорте\n",
        "cohorts = df_merged.groupby(['Cohort', 'InvoiceMonth']).agg({'CustomerID': pd.Series.nunique})\n",
        "cohorts = cohorts.groupby(level=0).apply(cohort_period)\n",
        "cohorts.rename(columns={'CustomerID': 'TotalUsers'}, inplace=True)\n",
        "cohorts"
      ],
      "execution_count": null,
      "outputs": []
    },
    {
      "cell_type": "code",
      "metadata": {
        "id": "HpxXXglMZDMb"
      },
      "source": [
        "# переведем когорты в индекс, а дату чека в столбец\n",
        "cohorts.reset_index(inplace=True)\n",
        "cohorts.set_index(['Cohort', 'CohortLT'], inplace=True) \n",
        "cohorts"
      ],
      "execution_count": null,
      "outputs": []
    },
    {
      "cell_type": "code",
      "metadata": {
        "id": "5Cp2F3dkYd35"
      },
      "source": [
        "# считаем ретеншн пользователей в каждой когорте\n",
        "\n",
        "# определим количество покупок в первый месяц когорты (100%)\n",
        "cohort_group_size = cohorts['TotalUsers'].groupby(level=0).first()\n",
        "cohort_group_size\n"
      ],
      "execution_count": null,
      "outputs": []
    },
    {
      "cell_type": "code",
      "metadata": {
        "id": "aS_aJ6-eYwVP"
      },
      "source": [
        "# узнаем какой процент покупок этой когортой совершался в последующие месяца\n",
        "user_retention = cohorts['TotalUsers'].unstack(0).divide(cohort_group_size, axis=1)\n",
        "user_retention"
      ],
      "execution_count": null,
      "outputs": []
    },
    {
      "cell_type": "markdown",
      "metadata": {
        "id": "8nZeZ1vgdafo"
      },
      "source": [
        "**Спасибо за внимание буду рад ответить на ваши вопросы!**  \n",
        "Ссылка на форму ОС:\n",
        "https://forms.gle/y8xaFwJqtbFSjUeG8"
      ]
    }
  ]
}