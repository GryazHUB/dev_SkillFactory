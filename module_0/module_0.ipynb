{
 "cells": [
  {
   "cell_type": "code",
   "execution_count": 490,
   "metadata": {
    "scrolled": false
   },
   "outputs": [
    {
     "name": "stdout",
     "output_type": "stream",
     "text": [
      "Ваш алгоритм угадывает число в среднем за 9 попыток\n"
     ]
    },
    {
     "data": {
      "text/plain": [
       "9"
      ]
     },
     "execution_count": 490,
     "metadata": {},
     "output_type": "execute_result"
    }
   ],
   "source": [
    "import numpy as np\n",
    "                           \n",
    "def score_game(game_core):\n",
    "    '''Запускаем игру 1000 раз, чтобы узнать, как быстро игра угадывает число'''\n",
    "    \n",
    "    count_ls = []      # список из счетчиков попыток\n",
    "    np.random.seed(1)  # фиксируем RANDOM SEED, чтобы ваш эксперимент был воспроизводим!\n",
    "    \n",
    "    '''1000 раз загадываем число от 1 до 100 и формируем из них список random_array'''\n",
    "    random_array = np.random.randint(1,101, size=(1000)) \n",
    "    \n",
    "    '''угадываем числа из списка random_array, применяя функцию game_core \n",
    "    и формируем список из результатов (кол-во необходимых попыток)''' \n",
    "    for number in random_array: \n",
    "        count_ls.append(game_core(number))\n",
    "    \n",
    "    '''считаем среднее кол-во попыток, необходимых для угадывания задуманного числа'''    \n",
    "    score = int(np.mean(count_ls)) \n",
    "    \n",
    "    print(f\"Ваш алгоритм угадывает число в среднем за {score} попыток\")\n",
    "    return(score)\n",
    "\n",
    "def game_core(number):\n",
    "    '''Сначала устанавливаем число 15, а потом уменьшаем или увеличиваем его в зависимости от того, \n",
    "    больше оно или меньше нужного. Функция принимает загаданное число и возвращает число попыток'''\n",
    "    count = 1    # первое срабатывание счетчика попыток происходит на начальном значении predict\n",
    "    predict = 15 # устанавливаем начальное значение на 15 для оптимизации грубого и точного подбора\n",
    "    while number != predict:\n",
    "        count+=1 # счетчик фиксируент каждое сравнение числа при подборе\n",
    "        if number > predict: \n",
    "            predict += 10 # перебираем вверх по 10 чисел для грубого подбора загаданного числа \n",
    "        elif number < predict: \n",
    "            predict -= 1  # перебираем вниз по 1 числу для точного подбора загаданного числа\n",
    "    return(count) # выход из цикла, если угадали\n",
    "\n",
    "score_game(game_core)\n"
   ]
  }
 ],
 "metadata": {
  "kernelspec": {
   "display_name": "Python 3",
   "language": "python",
   "name": "python3"
  },
  "language_info": {
   "codemirror_mode": {
    "name": "ipython",
    "version": 3
   },
   "file_extension": ".py",
   "mimetype": "text/x-python",
   "name": "python",
   "nbconvert_exporter": "python",
   "pygments_lexer": "ipython3",
   "version": "3.8.5"
  }
 },
 "nbformat": 4,
 "nbformat_minor": 4
}
